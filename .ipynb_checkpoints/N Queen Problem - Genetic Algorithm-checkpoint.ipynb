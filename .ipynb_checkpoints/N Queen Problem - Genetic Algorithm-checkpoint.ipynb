{
 "cells": [
  {
   "cell_type": "markdown",
   "metadata": {},
   "source": [
    "# N Queen Challenge Using Genetic Algorithm Approach"
   ]
  },
  {
   "cell_type": "markdown",
   "metadata": {
    "heading_collapsed": true
   },
   "source": [
    "## Problem Statement"
   ]
  },
  {
   "cell_type": "raw",
   "metadata": {
    "hidden": true
   },
   "source": [
    "Python Challenge\n",
    "\n",
    "Description:\n",
    "The eight queens puzzle is the problem of placing eight chess queens on an 8×8 chessboard so that no two queens threaten each other; thus, a solution requires that no two queens share the same row, column, or diagonal. The eight queens puzzle is an example of the more general n queens problem of placing n non-attacking queens on an n×n chessboard. (Source : https://en.wikipedia.org/wiki/Eight_queens_puzzle )\n",
    "\n",
    "Challenge:\n",
    "The challenge is to generate one right sequence through Genetic Programming. The sequence has to be 8 numbers between 0 to 7. Each number represents the positions the Queens can be placed. Each number refers to the row number in the specific column\n",
    "\n",
    "0 3 4 5 6 1 2 4\n",
    "\n",
    "· 0 is the row number in the column 0 where the Queen can be placed\n",
    "\n",
    "· 3 is the row number in the column 1 where the Queen can be placed\n",
    "\n",
    "@author Shyamal Akruvala"
   ]
  },
  {
   "cell_type": "markdown",
   "metadata": {
    "heading_collapsed": true
   },
   "source": [
    "## Initialization, Methods and Unit Tests"
   ]
  },
  {
   "cell_type": "code",
   "execution_count": 1,
   "metadata": {
    "ExecuteTime": {
     "end_time": "2020-06-27T19:46:07.726178Z",
     "start_time": "2020-06-27T19:46:07.722164Z"
    },
    "code_folding": [],
    "hidden": true
   },
   "outputs": [],
   "source": [
    "# Importing the required packages\n",
    "import random"
   ]
  },
  {
   "cell_type": "code",
   "execution_count": 2,
   "metadata": {
    "ExecuteTime": {
     "end_time": "2020-06-27T19:46:07.738145Z",
     "start_time": "2020-06-27T19:46:07.727151Z"
    },
    "code_folding": [],
    "hidden": true
   },
   "outputs": [],
   "source": [
    "def create_population(number_of_queens, initial_population_size):\n",
    "    \"\"\"\n",
    "    This method takes two arguments\n",
    "    1. The number of queens that need to be placed.\n",
    "    2. The initial size of the population to be created\n",
    "    The population consists of chromosomes which in turn are made of genes.\n",
    "    \"\"\"\n",
    "    population = []\n",
    "    for chromosome in range(initial_population_size):\n",
    "        population.append(create_chromosome(number_of_queens))\n",
    "    return population\n",
    "\n",
    "#Unit Test\n",
    "#create_population(8,10)"
   ]
  },
  {
   "cell_type": "code",
   "execution_count": 3,
   "metadata": {
    "ExecuteTime": {
     "end_time": "2020-06-27T19:46:07.750089Z",
     "start_time": "2020-06-27T19:46:07.739120Z"
    },
    "code_folding": [],
    "hidden": true
   },
   "outputs": [],
   "source": [
    "def create_chromosome(gene_size):\n",
    "    \"\"\"\n",
    "    This method takes one argument i.e. the gene size of the chromosome.\n",
    "    Index start from 0 hence the gene_size - 1\n",
    "    A chromosome of random genes is created and returned.A gene can be \n",
    "    understood as the row in which the queen is placed for that associated column.\n",
    "    \"\"\"\n",
    "    chromosome = []\n",
    "    for gene in range(gene_size):\n",
    "        chromosome.append(random.randint(0, gene_size - 1))\n",
    "    return chromosome\n",
    "\n",
    "#Unit Test\n",
    "#create_chromosome(8)"
   ]
  },
  {
   "cell_type": "code",
   "execution_count": 4,
   "metadata": {
    "ExecuteTime": {
     "end_time": "2020-06-27T19:46:07.763077Z",
     "start_time": "2020-06-27T19:46:07.751086Z"
    },
    "code_folding": [],
    "hidden": true
   },
   "outputs": [],
   "source": [
    "def fitness_calculation(chromosome, maxFitness):\n",
    "    \"\"\"\n",
    "    This method calculates the fitness of a given chromosome i.e. its closeness to the actual targetted result\n",
    "    Horizontal collisions are detected by adding the occurence of the row placement.\n",
    "    As the counting would be double we divide the sum by 2\n",
    "    Diagonal collisions are calculated taking the abs value or row and column comparisons. If the row and column\n",
    "    match then there is collision between those two queens\n",
    "    \"\"\"\n",
    "    horizontal_collisions = sum([chromosome.count(i) - 1 for i in chromosome])/2\n",
    "    diagonal_collisions = 0\n",
    "    for record in range(1,len(chromosome)+1):\n",
    "        column1 = record-1\n",
    "        row1 = chromosome[column1]\n",
    "        for i in range (column1+1, len(chromosome)):\n",
    "            column2 = i\n",
    "            row2 = chromosome[i]\n",
    "            deltaRow = abs(row1 - row2)\n",
    "            deltaCol = abs(column1 - column2)\n",
    "            if (deltaRow == deltaCol):\n",
    "                #print(\"######## Collision detected ##############\")\n",
    "                diagonal_collisions = diagonal_collisions + 1\n",
    "    #print(\"Horizontal Collisions are {} and Diagonal are {} \".format(horizontal_collisions, diagonal_collisions))\n",
    "    fitness_score = maxFitness - (horizontal_collisions + diagonal_collisions)\n",
    "    #print(\"The fitness score is {}\".format(fitness_score))\n",
    "    return fitness_score\n",
    "\n",
    "#Unit Test\n",
    "#fitness_calculation([2, 6, 1, 7, 4, 0, 3, 5], 28)"
   ]
  },
  {
   "cell_type": "code",
   "execution_count": 5,
   "metadata": {
    "ExecuteTime": {
     "end_time": "2020-06-27T19:46:07.773030Z",
     "start_time": "2020-06-27T19:46:07.764052Z"
    },
    "code_folding": [],
    "hidden": true
   },
   "outputs": [],
   "source": [
    "def strength_of_chromosome(chromosome, maxFitness):\n",
    "    \"\"\"\n",
    "    In this method we determine the strength of the chromosome \n",
    "    i.e. on a scale of 0 to 1 how close is it to the target. 1 is the maximum strength.\n",
    "    \"\"\"\n",
    "    return fitness_calculation(chromosome, maxFitness) / maxFitness\n",
    "\n",
    "#Unit Test\n",
    "#strength_of_chromosome([1, 1, 1, 1, 1, 1, 1, 1], 28)\n",
    "#strength_of_chromosome([2, 6, 1, 7, 4, 0, 3, 5], 28)"
   ]
  },
  {
   "cell_type": "code",
   "execution_count": 6,
   "metadata": {
    "ExecuteTime": {
     "end_time": "2020-06-27T19:46:07.786992Z",
     "start_time": "2020-06-27T19:46:07.775023Z"
    },
    "code_folding": [],
    "hidden": true
   },
   "outputs": [],
   "source": [
    "def strongest_parent(population, probabilities, parent):\n",
    "    \"\"\"\n",
    "    This method takes 3 parameters namely the population, their associated probabilities \n",
    "    and the parent we are trying to select.\n",
    "    Parent X is the one with highest probability and Parent Y is the one with second highest probability\n",
    "    \"\"\"\n",
    "    population_with_probability = zip(population, probabilities)\n",
    "    sorted_population_with_probability = sorted(population_with_probability, key = lambda i: i[1]) \n",
    "    if parent.upper() == 'X':\n",
    "        selected_parent = sorted_population_with_probability[-1]\n",
    "    elif parent.upper() == 'Y':\n",
    "        selected_parent = sorted_population_with_probability[-2]\n",
    "    else :\n",
    "        selected_parent = (0,0)\n",
    "        print(\"Incorrect parent provided. Expected values are X or Y\")\n",
    "    return selected_parent[0]\n",
    "    \n",
    "#Unit Test\n",
    "#strongest_parent([[1, 1, 1, 1, 1, 1, 1, 1], [1, 6, 3, 7, 4, 0, 3, 5], [2, 6, 1, 7, 4, 0, 3, 5]],[0.2, 0.5, .9], 'y')"
   ]
  },
  {
   "cell_type": "code",
   "execution_count": 7,
   "metadata": {
    "ExecuteTime": {
     "end_time": "2020-06-27T19:46:07.798981Z",
     "start_time": "2020-06-27T19:46:07.788985Z"
    },
    "code_folding": [],
    "hidden": true
   },
   "outputs": [],
   "source": [
    "def breed(parentX, parentY):\n",
    "    \"\"\"\n",
    "    This is the reproduction method. We take 2 parents and create a child out of them.\n",
    "    A random index is selected and then using it the chromosomes of ParentX and ParentY are split\n",
    "    to form a new child chromosome.\n",
    "    \"\"\"\n",
    "    random_point = random.randint(0, len(parentX) - 1)\n",
    "    return parentX[0:random_point] + parentY[random_point:len(parentY)]\n",
    "\n",
    "#Unit Test\n",
    "#breed([1, 1, 1, 1, 1, 1, 1, 1],[2, 6, 1, 7, 4, 0, 3, 5])"
   ]
  },
  {
   "cell_type": "code",
   "execution_count": 8,
   "metadata": {
    "ExecuteTime": {
     "end_time": "2020-06-27T19:46:07.810951Z",
     "start_time": "2020-06-27T19:46:07.799955Z"
    },
    "code_folding": [],
    "hidden": true
   },
   "outputs": [],
   "source": [
    "def mutation(child_chromosome, num_of_genes_to_change):  \n",
    "    \"\"\"\n",
    "    Mutation helps introduce some variation in the population. \n",
    "    Children created from same population might end up with same genes post many generations. \n",
    "    Hence its critical to introduce some variation via mutation to the population\n",
    "    \"\"\"\n",
    "    if (num_of_genes_to_change > len(child_chromosome)):\n",
    "        num_of_genes_to_change = len(child_chromosome)\n",
    "        print(\"Number of gene changes requested are greater than genes in original chromosome\")\n",
    "        print(\"The number of gene changes revised to {} changes\".format(num_of_genes_to_change))\n",
    "    \n",
    "    for i in range(num_of_genes_to_change):\n",
    "        generate_random_gene = random.randint(0,len(child_chromosome)-1)\n",
    "        child_chromosome[random.randint(0,len(child_chromosome)-1)] = generate_random_gene\n",
    "    return child_chromosome\n",
    "\n",
    "#Unit Test\n",
    "#mutation([2, 6, 1, 7, 4, 0, 3, 5],12)"
   ]
  },
  {
   "cell_type": "code",
   "execution_count": 9,
   "metadata": {
    "ExecuteTime": {
     "end_time": "2020-06-27T19:46:07.823917Z",
     "start_time": "2020-06-27T19:46:07.812945Z"
    },
    "code_folding": [],
    "hidden": true
   },
   "outputs": [],
   "source": [
    "def execute_genetic_algorithm(population, mutation_chance, maxFitness):\n",
    "    \"\"\"\n",
    "    This is the method where the genetic algorithm is implemented.\n",
    "    We calulate the likelihood of the chromosomes in an existing population. \n",
    "    Perform reproduction to create a new population and then check if any of \n",
    "    the chromosomes match the expected target. If not then we repeat the process.\n",
    "    Mutation is introduced randomly to ensure variations in the populations being created.\n",
    "    \"\"\"\n",
    "    new_population = []\n",
    "    likelihood_of_chromosome = [strength_of_chromosome(chromosome, maxFitness) for chromosome in population]\n",
    "    for i in range(len(population)):\n",
    "        parentX = strongest_parent(population, likelihood_of_chromosome, 'X')\n",
    "        parentY = strongest_parent(population, likelihood_of_chromosome, 'Y')\n",
    "        child_chromosome = breed(parentX, parentY)\n",
    "        if random.random() < mutation_chance:\n",
    "            child_chromosome = mutation(child_chromosome,2) # 2 of the genes to be updated\n",
    "        new_population.append(child_chromosome)\n",
    "        if (fitness_calculation(child_chromosome, maxFitness) == maxFitness):\n",
    "            break\n",
    "    return new_population\n",
    "\n",
    "#Unit Test\n",
    "#execute_genetic_algorithm([[2, 0, 1, 8, 4, 4, 3, 3],[2, 6, 1, 7, 4, 0, 3, 5]], 0.03, 28)"
   ]
  },
  {
   "cell_type": "markdown",
   "metadata": {},
   "source": [
    "## Main Program "
   ]
  },
  {
   "cell_type": "code",
   "execution_count": 10,
   "metadata": {
    "ExecuteTime": {
     "end_time": "2020-06-27T19:46:17.840080Z",
     "start_time": "2020-06-27T19:46:07.824913Z"
    }
   },
   "outputs": [
    {
     "name": "stdout",
     "output_type": "stream",
     "text": [
      "Please enter the number of queens to place: 8\n",
      "Please enter the mutation percentage: 3\n",
      "Please enter the initial population size: 100\n",
      "Please enter the maximum generations to iterate over: 10000\n"
     ]
    }
   ],
   "source": [
    "# Request Input from the User\n",
    "number_of_queens = int(input(\"Please enter the number of queens to place: \"))\n",
    "mutation_percentage = float(input(\"Please enter the mutation percentage: \"))\n",
    "initial_population_size = int(input(\"Please enter the initial population size: \"))\n",
    "maximum_generations_to_execute = int(input(\"Please enter the maximum generations to iterate over: \"))\n",
    "mutation_chance = mutation_percentage / 100"
   ]
  },
  {
   "cell_type": "code",
   "execution_count": 11,
   "metadata": {
    "ExecuteTime": {
     "end_time": "2020-06-27T19:46:18.213083Z",
     "start_time": "2020-06-27T19:46:17.841078Z"
    },
    "code_folding": []
   },
   "outputs": [
    {
     "name": "stdout",
     "output_type": "stream",
     "text": [
      "The maxFitness desired is: 28.0\n",
      "Running iteration for Generation number 0\n",
      "The Maximum Fitness in this Generation is 26.0\n",
      "Running iteration for Generation number 1\n",
      "The Maximum Fitness in this Generation is 26.0\n",
      "Running iteration for Generation number 2\n",
      "The Maximum Fitness in this Generation is 26.0\n",
      "Running iteration for Generation number 3\n",
      "The Maximum Fitness in this Generation is 26.0\n",
      "Running iteration for Generation number 4\n",
      "The Maximum Fitness in this Generation is 26.0\n",
      "Running iteration for Generation number 5\n",
      "The Maximum Fitness in this Generation is 26.0\n",
      "Running iteration for Generation number 6\n",
      "The Maximum Fitness in this Generation is 26.0\n",
      "Running iteration for Generation number 7\n",
      "The Maximum Fitness in this Generation is 26.0\n",
      "Running iteration for Generation number 8\n",
      "The Maximum Fitness in this Generation is 26.0\n",
      "Running iteration for Generation number 9\n",
      "The Maximum Fitness in this Generation is 26.0\n",
      "Running iteration for Generation number 10\n",
      "The Maximum Fitness in this Generation is 26.0\n",
      "Running iteration for Generation number 11\n",
      "The Maximum Fitness in this Generation is 26.0\n",
      "Running iteration for Generation number 12\n",
      "The Maximum Fitness in this Generation is 26.0\n",
      "Running iteration for Generation number 13\n",
      "The Maximum Fitness in this Generation is 26.0\n",
      "Running iteration for Generation number 14\n",
      "The Maximum Fitness in this Generation is 26.0\n",
      "Running iteration for Generation number 15\n",
      "The Maximum Fitness in this Generation is 26.0\n",
      "Running iteration for Generation number 16\n",
      "The Maximum Fitness in this Generation is 26.0\n",
      "Running iteration for Generation number 17\n",
      "The Maximum Fitness in this Generation is 26.0\n",
      "Running iteration for Generation number 18\n",
      "The Maximum Fitness in this Generation is 26.0\n",
      "Running iteration for Generation number 19\n",
      "The Maximum Fitness in this Generation is 26.0\n",
      "Running iteration for Generation number 20\n",
      "The Maximum Fitness in this Generation is 26.0\n",
      "Running iteration for Generation number 21\n",
      "The Maximum Fitness in this Generation is 26.0\n",
      "Running iteration for Generation number 22\n",
      "The Maximum Fitness in this Generation is 26.0\n",
      "Running iteration for Generation number 23\n",
      "The Maximum Fitness in this Generation is 26.0\n",
      "Running iteration for Generation number 24\n",
      "The Maximum Fitness in this Generation is 26.0\n",
      "Running iteration for Generation number 25\n",
      "The Maximum Fitness in this Generation is 26.0\n",
      "Running iteration for Generation number 26\n",
      "The Maximum Fitness in this Generation is 26.0\n",
      "Running iteration for Generation number 27\n",
      "The Maximum Fitness in this Generation is 26.0\n",
      "Running iteration for Generation number 28\n",
      "The Maximum Fitness in this Generation is 26.0\n",
      "Running iteration for Generation number 29\n",
      "The Maximum Fitness in this Generation is 26.0\n",
      "Running iteration for Generation number 30\n",
      "The Maximum Fitness in this Generation is 26.0\n",
      "Running iteration for Generation number 31\n",
      "The Maximum Fitness in this Generation is 26.0\n",
      "Running iteration for Generation number 32\n",
      "The Maximum Fitness in this Generation is 26.0\n",
      "Running iteration for Generation number 33\n",
      "The Maximum Fitness in this Generation is 26.0\n",
      "Running iteration for Generation number 34\n",
      "The Maximum Fitness in this Generation is 26.0\n",
      "Running iteration for Generation number 35\n",
      "The Maximum Fitness in this Generation is 26.0\n",
      "Running iteration for Generation number 36\n",
      "The Maximum Fitness in this Generation is 26.0\n",
      "Running iteration for Generation number 37\n",
      "The Maximum Fitness in this Generation is 26.0\n",
      "Running iteration for Generation number 38\n",
      "The Maximum Fitness in this Generation is 26.0\n",
      "Running iteration for Generation number 39\n",
      "The Maximum Fitness in this Generation is 26.0\n",
      "Running iteration for Generation number 40\n",
      "The Maximum Fitness in this Generation is 26.0\n",
      "Running iteration for Generation number 41\n",
      "The Maximum Fitness in this Generation is 26.0\n",
      "Running iteration for Generation number 42\n",
      "The Maximum Fitness in this Generation is 26.0\n",
      "Running iteration for Generation number 43\n",
      "The Maximum Fitness in this Generation is 26.0\n",
      "Running iteration for Generation number 44\n",
      "The Maximum Fitness in this Generation is 26.0\n",
      "Running iteration for Generation number 45\n",
      "The Maximum Fitness in this Generation is 26.0\n",
      "Running iteration for Generation number 46\n",
      "The Maximum Fitness in this Generation is 26.0\n",
      "Running iteration for Generation number 47\n",
      "The Maximum Fitness in this Generation is 26.0\n",
      "Running iteration for Generation number 48\n",
      "The Maximum Fitness in this Generation is 26.0\n",
      "Running iteration for Generation number 49\n",
      "The Maximum Fitness in this Generation is 26.0\n",
      "Running iteration for Generation number 50\n",
      "The Maximum Fitness in this Generation is 26.0\n",
      "Running iteration for Generation number 51\n",
      "The Maximum Fitness in this Generation is 26.0\n",
      "Running iteration for Generation number 52\n",
      "The Maximum Fitness in this Generation is 26.0\n",
      "Running iteration for Generation number 53\n",
      "The Maximum Fitness in this Generation is 26.0\n",
      "Running iteration for Generation number 54\n",
      "The Maximum Fitness in this Generation is 26.0\n",
      "Running iteration for Generation number 55\n",
      "The Maximum Fitness in this Generation is 26.0\n",
      "Running iteration for Generation number 56\n",
      "The Maximum Fitness in this Generation is 26.0\n",
      "Running iteration for Generation number 57\n",
      "The Maximum Fitness in this Generation is 26.0\n",
      "Running iteration for Generation number 58\n",
      "The Maximum Fitness in this Generation is 26.0\n",
      "Running iteration for Generation number 59\n",
      "The Maximum Fitness in this Generation is 26.0\n",
      "Running iteration for Generation number 60\n",
      "The Maximum Fitness in this Generation is 26.0\n",
      "Running iteration for Generation number 61\n",
      "The Maximum Fitness in this Generation is 26.0\n",
      "Running iteration for Generation number 62\n",
      "The Maximum Fitness in this Generation is 26.0\n",
      "Running iteration for Generation number 63\n",
      "The Maximum Fitness in this Generation is 26.0\n",
      "Running iteration for Generation number 64\n",
      "The Maximum Fitness in this Generation is 28.0\n",
      "Solved in Generation 64!\n",
      "Solution =======> [2, 4, 7, 3, 0, 6, 1, 5]\n"
     ]
    }
   ],
   "source": [
    "if __name__ == \"__main__\":\n",
    "    \"\"\"\n",
    "    The main method where the program execution happens.\n",
    "    \"\"\"\n",
    "    # Calculate the target score\n",
    "    maxFitness = ((number_of_queens) * (number_of_queens - 1))/2 \n",
    "    print(\"The maxFitness desired is: {}\".format(maxFitness))\n",
    "    \n",
    "    # Create a random population of chromosomes with genes based on the inputs\n",
    "    population = create_population(number_of_queens, initial_population_size)\n",
    "    generation_counter = 0\n",
    "    \n",
    "    for iteration in range(maximum_generations_to_execute):\n",
    "        print(\"Running iteration for Generation number {}\".format(generation_counter))\n",
    "        population = execute_genetic_algorithm(population, mutation_chance, maxFitness)      \n",
    "        maxFitnessInPopulation = max([fitness_calculation(chromosome, maxFitness) for chromosome in population])\n",
    "        print(\"The Maximum Fitness in this Generation is {}\".format(maxFitnessInPopulation))\n",
    "        if (maxFitnessInPopulation != maxFitness):\n",
    "            generation_counter += 1\n",
    "        else:\n",
    "            break\n",
    "        \n",
    "    print(\"Solved in Generation {}!\".format(generation_counter))\n",
    "    for chromosome in population:\n",
    "        if (fitness_calculation(chromosome, maxFitness) == maxFitness):\n",
    "            print(\"Solution =======> {}\".format(chromosome))\n"
   ]
  },
  {
   "cell_type": "markdown",
   "metadata": {
    "ExecuteTime": {
     "end_time": "2020-06-26T09:23:05.662532Z",
     "start_time": "2020-06-26T09:23:05.657522Z"
    }
   },
   "source": [
    "## Submission "
   ]
  },
  {
   "cell_type": "raw",
   "metadata": {},
   "source": [
    "Challenge Submission\n",
    "\n",
    "1. The python code should be stored in https://github.com\n",
    "2. The python code should have the following components\n",
    "    a. Code must follow Object Oriented program standards with appropriate Unit tests\n",
    "    b. Function to generate the initial population\n",
    "    c. Function to score the population\n",
    "    d. Function to do cross over and mutation of the selected gene pool\n",
    "    e. Main function to identify the right sequence\n",
    "3. Maximum number of submission attempts is restricted to 3\n",
    "4. A valid sequence is submitted using the following code\n",
    "\n",
    "import requests url='https://lf8q0kx152.execute-api.us-east-2.amazonaws.com/default/computeFitnessScore' x=requests.post(url,json={\"qconfig\":\"<<config parameters>>\",\"userID\":<<emp id>>,\"githubLink\":\"<<git hub link>>\"}) print(x.text)\n",
    "\n",
    "qconfig is the result to be submitted\n",
    "EID is the employee id\n",
    "githubLink is the link to the code"
   ]
  }
 ],
 "metadata": {
  "kernelspec": {
   "display_name": "Python 3",
   "language": "python",
   "name": "python3"
  },
  "language_info": {
   "codemirror_mode": {
    "name": "ipython",
    "version": 3
   },
   "file_extension": ".py",
   "mimetype": "text/x-python",
   "name": "python",
   "nbconvert_exporter": "python",
   "pygments_lexer": "ipython3",
   "version": "3.7.4"
  },
  "toc": {
   "base_numbering": 1,
   "nav_menu": {},
   "number_sections": true,
   "sideBar": true,
   "skip_h1_title": false,
   "title_cell": "Table of Contents",
   "title_sidebar": "Contents",
   "toc_cell": false,
   "toc_position": {},
   "toc_section_display": true,
   "toc_window_display": false
  }
 },
 "nbformat": 4,
 "nbformat_minor": 2
}
